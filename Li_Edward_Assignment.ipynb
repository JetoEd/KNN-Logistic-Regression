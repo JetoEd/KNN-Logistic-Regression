{
 "cells": [
  {
   "cell_type": "code",
   "execution_count": 10,
   "metadata": {},
   "outputs": [],
   "source": [
    "#Various Import Statements\n",
    "import numpy as np\n",
    "from sklearn.datasets import load_breast_cancer\n",
    "from sklearn.preprocessing import StandardScaler\n",
    "from sklearn.model_selection import train_test_split\n",
    "from sklearn.linear_model import LogisticRegression\n",
    "from sklearn.metrics import accuracy_score, classification_report, confusion_matrix\n",
    "from collections import Counter"
   ]
  },
  {
   "cell_type": "markdown",
   "metadata": {},
   "source": [
    "Data Preprocessing for Question 1 and 2 "
   ]
  },
  {
   "cell_type": "code",
   "execution_count": 3,
   "metadata": {},
   "outputs": [],
   "source": [
    "# Load the breast cancer dataset from sklearn\n",
    "cancer_data = load_breast_cancer()\n",
    "\n",
    "# Features (X) and target labels (y)\n",
    "X = cancer_data.data  # Feature data (measurements)\n",
    "y = cancer_data.target  # Target labels (malignant or benign)\n",
    "\n",
    "# Normalize the feature data to have mean 0 and standard deviation 1\n",
    "scaler = StandardScaler()\n",
    "X_normalized = scaler.fit_transform(X)\n",
    "\n",
    "# Split the dataset into training (70%) and testing (30%) sets\n",
    "X_train, X_test, y_train, y_test = train_test_split(X_normalized, y, test_size=0.3)"
   ]
  },
  {
   "cell_type": "markdown",
   "metadata": {},
   "source": [
    "KNN Implementation"
   ]
  },
  {
   "cell_type": "code",
   "execution_count": 4,
   "metadata": {},
   "outputs": [],
   "source": [
    "# Function to calculate the Euclidean distance between two points\n",
    "def euclidean_distance(point1, point2):\n",
    "    return np.sqrt(np.sum((point1 - point2) ** 2))\n",
    "\n",
    "# Function to get the k nearest neighbors for a given test point\n",
    "def get_k_nearest_neighbors(X_train, y_train, test_point, k):\n",
    "    # Calculate the distance from the test point to all training points\n",
    "    distances = [euclidean_distance(test_point, x_train) for x_train in X_train]\n",
    "    \n",
    "    # Get the indices of the k nearest neighbors\n",
    "    k_indices = np.argsort(distances)[:k]\n",
    "    \n",
    "    # Get the labels of the k nearest neighbors\n",
    "    k_nearest_labels = [y_train[i] for i in k_indices]\n",
    "    \n",
    "    return k_nearest_labels\n",
    "\n",
    "# Function to predict the class of a single test point using the nearest neighbors\n",
    "def predict_single(X_train, y_train, test_point, k):\n",
    "    # Get the labels of the k nearest neighbors\n",
    "    k_nearest_labels = get_k_nearest_neighbors(X_train, y_train, test_point, k)\n",
    "    \n",
    "    # Perform majority voting to determine the predicted class\n",
    "    most_common = Counter(k_nearest_labels).most_common(1)\n",
    "    return most_common[0][0]\n",
    "\n",
    "# Function to predict classes for a test set\n",
    "def predict(X_train, y_train, X_test, k):\n",
    "    # Predict the class for each test point in the test set\n",
    "    predictions = [predict_single(X_train, y_train, test_point, k) for test_point in X_test]\n",
    "    return np.array(predictions)"
   ]
  },
  {
   "cell_type": "markdown",
   "metadata": {},
   "source": [
    "Parameter Tuning of K "
   ]
  },
  {
   "cell_type": "code",
   "execution_count": 5,
   "metadata": {},
   "outputs": [],
   "source": [
    "# Loop through different values of k for KNN to find the optimal k\n",
    "k_values = range(1, 21)  # Check k values from 1 to 20\n",
    "accuracies_knn = []  # List to store accuracy for each k value\n",
    "\n",
    "# Evaluate KNN for each k\n",
    "for k in k_values:\n",
    "    y_pred_knn = predict(X_train, y_train, X_test, k)  # Make predictions for the current k\n",
    "    accuracy_knn = accuracy_score(y_test, y_pred_knn)  # Calculate accuracy for KNN\n",
    "    accuracies_knn.append(accuracy_knn)  # Store the accuracy\n",
    "\n",
    "# Find the optimal k based on maximum accuracy\n",
    "optimal_k = k_values[np.argmax(accuracies_knn)]  # Get k value with the highest accuracy\n",
    "max_accuracy_knn = max(accuracies_knn)  # Max accuracy for KNN\n",
    "\n",
    "# KNN Predictions with Optimal k\n",
    "y_pred_knn_optimal = predict(X_train, y_train, X_test, optimal_k)  # Predict using optimal k\n",
    "\n",
    "# Evaluate KNN with optimal k\n",
    "accuracy_knn_optimal = accuracy_score(y_test, y_pred_knn_optimal)  # Calculate accuracy\n",
    "confusion_knn_optimal = confusion_matrix(y_test, y_pred_knn_optimal)  # Confusion matrix\n",
    "report_knn_optimal = classification_report(y_test, y_pred_knn_optimal)  # Detailed classification report"
   ]
  },
  {
   "cell_type": "markdown",
   "metadata": {},
   "source": [
    "Logistic Regression Implementation "
   ]
  },
  {
   "cell_type": "code",
   "execution_count": 6,
   "metadata": {},
   "outputs": [],
   "source": [
    "# Logistic Regression Model\n",
    "log_reg_model = LogisticRegression()  # Initialize the Logistic Regression model\n",
    "log_reg_model.fit(X_train, y_train)  # Fit the model on the training data\n",
    "\n",
    "# Make predictions on the test data\n",
    "y_pred_log_reg = log_reg_model.predict(X_test)\n",
    "\n",
    "# Evaluate the performance of the Logistic Regression model\n",
    "accuracy_log_reg = accuracy_score(y_test, y_pred_log_reg)  # Calculate accuracy\n",
    "confusion_log_reg = confusion_matrix(y_test, y_pred_log_reg)  # Confusion matrix\n",
    "report_log_reg = classification_report(y_test, y_pred_log_reg)  # Detailed classification report"
   ]
  },
  {
   "cell_type": "markdown",
   "metadata": {},
   "source": [
    "KNN and Logistic Regression Evaluations and Comparision of Performance"
   ]
  },
  {
   "cell_type": "code",
   "execution_count": 7,
   "metadata": {},
   "outputs": [
    {
     "name": "stdout",
     "output_type": "stream",
     "text": [
      "\n",
      "KNN Performance:\n",
      "Optimal k: 3\n",
      "Accuracy: 0.9532163742690059\n",
      "Confusion Matrix:\n",
      "[[ 52   6]\n",
      " [  2 111]]\n",
      "Classification Report:\n",
      "              precision    recall  f1-score   support\n",
      "\n",
      "           0       0.96      0.90      0.93        58\n",
      "           1       0.95      0.98      0.97       113\n",
      "\n",
      "    accuracy                           0.95       171\n",
      "   macro avg       0.96      0.94      0.95       171\n",
      "weighted avg       0.95      0.95      0.95       171\n",
      "\n",
      "Logistic Regression Performance:\n",
      "Accuracy: 0.9707602339181286\n",
      "Confusion Matrix:\n",
      "[[ 54   4]\n",
      " [  1 112]]\n",
      "Classification Report:\n",
      "              precision    recall  f1-score   support\n",
      "\n",
      "           0       0.98      0.93      0.96        58\n",
      "           1       0.97      0.99      0.98       113\n",
      "\n",
      "    accuracy                           0.97       171\n",
      "   macro avg       0.97      0.96      0.97       171\n",
      "weighted avg       0.97      0.97      0.97       171\n",
      "\n"
     ]
    }
   ],
   "source": [
    "# Print results for KNN\n",
    "print(\"\\nKNN Performance:\")\n",
    "print(f\"Optimal k: {optimal_k}\")  # Print the optimal k value\n",
    "print(f\"Accuracy: {accuracy_knn_optimal:}\")  # Print accuracy for KNN\n",
    "print(\"Confusion Matrix:\")\n",
    "print(confusion_knn_optimal)  # Print confusion matrix for KNN\n",
    "print(\"Classification Report:\")\n",
    "print(report_knn_optimal)  # Print classification report for KNN\n",
    "\n",
    "# Print results for Logistic Regression\n",
    "print(\"Logistic Regression Performance:\")\n",
    "print(f\"Accuracy: {accuracy_log_reg:}\")  # Print accuracy\n",
    "print(\"Confusion Matrix:\")\n",
    "print(confusion_log_reg)  # Print confusion matrix\n",
    "print(\"Classification Report:\")\n",
    "print(report_log_reg)  # Print classification report\n"
   ]
  }
 ],
 "metadata": {
  "kernelspec": {
   "display_name": "base",
   "language": "python",
   "name": "python3"
  },
  "language_info": {
   "codemirror_mode": {
    "name": "ipython",
    "version": 3
   },
   "file_extension": ".py",
   "mimetype": "text/x-python",
   "name": "python",
   "nbconvert_exporter": "python",
   "pygments_lexer": "ipython3",
   "version": "3.12.7"
  }
 },
 "nbformat": 4,
 "nbformat_minor": 2
}
